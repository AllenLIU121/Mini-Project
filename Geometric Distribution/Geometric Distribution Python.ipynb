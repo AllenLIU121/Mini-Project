{
 "cells": [
  {
   "cell_type": "code",
   "execution_count": 7,
   "id": "596f6a4d",
   "metadata": {},
   "outputs": [
    {
     "data": {
      "image/png": "[encoded data removed]",
      "text/plain": [
       "<Figure size 432x288 with 1 Axes>"
      ]
     },
     "metadata": {
      "needs_background": "light"
     },
     "output_type": "display_data"
    }
   ],
   "source": [
    "import numpy as np\n",
    "from scipy.stats import geom\n",
    "import matplotlib.pyplot as plt\n",
    "\n",
    "def rouletteSpins(p):\n",
    "    x = 1\n",
    "    while np.random.rand() > p:\n",
    "        x += 1\n",
    "    else :\n",
    "        return x\n",
    "        \n",
    "p, xGrid, N = 18/37, np.linspace(1, 7, 7), 10**5\n",
    "mc = []\n",
    "for _ in range(N):\n",
    "    mc.append(rouletteSpins(p))\n",
    "\n",
    "mcEstimate = []     \n",
    "for i in range(1,8):\n",
    "    mcEstimate.append(mc.count(i)/N)\n",
    "\n",
    "plt.plot(xGrid, mcEstimate, 'bo', ms=8, alpha = 0.6 ,label=\"MC estimate\")\n",
    "plt.plot(xGrid, geom.pmf(xGrid, p), 'rx', ms=7, label=\"PMF\")\n",
    "plt.xlabel(\"X\")\n",
    "plt.ylabel(\"Probability\")\n",
    "plt.vlines(xGrid,0,mcEstimate, colors='b', lw=5, alpha = 0.6)\n",
    "plt.vlines(xGrid,0,geom.pmf(xGrid, p), colors='r', lw=2)\n",
    "plt.legend(loc='best')\n",
    "plt.show()"
   ]
  },
  {
   "cell_type": "code",
   "execution_count": null,
   "id": "50a1bcd4",
   "metadata": {},
   "outputs": [],
   "source": []
  }
 ],
 "metadata": {
  "kernelspec": {
   "display_name": "Python 3",
   "language": "python",
   "name": "python3"
  },
  "language_info": {
   "codemirror_mode": {
    "name": "ipython",
    "version": 3
   },
   "file_extension": ".py",
   "mimetype": "text/x-python",
   "name": "python",
   "nbconvert_exporter": "python",
   "pygments_lexer": "ipython3",
   "version": "3.8.5"
  }
 },
 "nbformat": 4,
 "nbformat_minor": 5
}
