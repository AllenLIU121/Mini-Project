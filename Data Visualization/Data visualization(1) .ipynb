{
 "cells": [
  {
   "cell_type": "code",
   "execution_count": 1,
   "metadata": {},
   "outputs": [],
   "source": [
    "import plotly.graph_objects as go \n",
    "import pandas as pd\n",
    "from ipywidgets import widgets\n",
    "import plotly.express as px"
   ]
  },
  {
   "cell_type": "code",
   "execution_count": 12,
   "metadata": {
    "scrolled": false
   },
   "outputs": [],
   "source": [
    "df = pd.read_csv('C:\\\\Users\\\\Administrator.BF-201906221526\\\\Desktop\\\\Flights dataset.csv')\n",
    "\n",
    "df1 = df.groupby(['ORIGIN_STATE_ABR']).mean()\n",
    "df1.reset_index(inplace=True)\n",
    "\n",
    "map1 = go.Figure(data=go.Choropleth(locations = df1['ORIGIN_STATE_ABR'] ,z= df1['DEP_DELAY'],\n",
    "    text = (\"Mean of DEP_Delay in \"+df['ORIGIN_STATE_ABR']), locationmode = 'USA-states',\n",
    "    colorscale = 'deep', colorbar_title = \"Number\",marker_line_color='white')) \n",
    "map1.update_layout( title_text = '2019.12 US TIME OF DEP_DELAY', geo_scope='usa')\n",
    "\n",
    "map2 = go.Figure(data=go.Choropleth(locations = df1['ORIGIN_STATE_ABR'] ,z= df1['ARR_DELAY'],\n",
    "    text = (\"Mean of ARR_Delay in \"+df['ORIGIN_STATE_ABR']), locationmode = 'USA-states',\n",
    "    colorscale = 'plotly3', colorbar_title = \"Number\",marker_line_color='white')) \n",
    "map2.update_layout( title_text = '2019.12 US TIME OF ARR_DELAY', geo_scope='usa')\n",
    "\n",
    "map1.show()\n",
    "map2.show()"
   ]
  },
  {
   "cell_type": "code",
   "execution_count": 5,
   "metadata": {},
   "outputs": [],
   "source": [
    "df1['CARRIER_DELAY']=df1['CARRIER_DELAY']/df1['CARRIER_DELAY'].sum()\n",
    "df1['WEATHER_DELAY']=df1['WEATHER_DELAY']/df1['WEATHER_DELAY'].sum()\n",
    "df1['NAS_DELAY']=df1['NAS_DELAY']/df1['NAS_DELAY'].sum()\n",
    "df1['SECURITY_DELAY']=df1['SECURITY_DELAY']/df1['SECURITY_DELAY'].sum()\n",
    "df1['LATE_AIRCRAFT_DELAY']=df1['LATE_AIRCRAFT_DELAY']/df1['LATE_AIRCRAFT_DELAY'].sum()\n",
    "df1.reset_index(inplace=True)"
   ]
  },
  {
   "cell_type": "code",
   "execution_count": 11,
   "metadata": {},
   "outputs": [],
   "source": [
    "df1['CARRIER_DELAY'] = df1['CARRIER_DELAY'].sort_values(ascending=False)\n",
    "fig1 = px.pie(df1, values='CARRIER_DELAY', names='ORIGIN_STATE_ABR',\n",
    "             title='Proportion of CARRIER_DELAY in every state')\n",
    "fig1.update_traces(textposition='inside', textinfo='percent+label')\n",
    "\n",
    "df1['WEATHER_DELAY'] = df1['WEATHER_DELAY'].sort_values(ascending=False)\n",
    "fig2 = px.pie(df1, values='WEATHER_DELAY', names='ORIGIN_STATE_ABR',\n",
    "             title='Proportion of WEATHER_DELAY in every state')\n",
    "fig2.update_traces(textposition='inside', textinfo='percent+label')\n",
    "\n",
    "df1['NAS_DELAY'] = df1['NAS_DELAY'].sort_values(ascending=False)\n",
    "fig3 = px.pie(df1, values='NAS_DELAY', names='ORIGIN_STATE_ABR',\n",
    "             title='Proportion of NAS_DELAY in every state')\n",
    "fig3.update_traces(textposition='inside', textinfo='percent+label')\n",
    "\n",
    "df1['SECURITY_DELAY'] = df1['SECURITY_DELAY'].sort_values(ascending=False)\n",
    "fig4 = px.pie(df1, values='SECURITY_DELAY', names='ORIGIN_STATE_ABR',\n",
    "             title='Proportion of SECURITY_DELAY in every state')\n",
    "fig4.update_traces(textposition='inside', textinfo='percent+label')\n",
    "\n",
    "df1['LATE_AIRCRAFT_DELAY'] = df1['LATE_AIRCRAFT_DELAY'].sort_values(ascending=False)\n",
    "fig5 = px.pie(df1, values='LATE_AIRCRAFT_DELAY', names='ORIGIN_STATE_ABR',\n",
    "             title='Proportion of LATE_AIRCRAFT_DELAY in every state')\n",
    "fig5.update_traces(textposition='inside', textinfo='percent+label')\n",
    "\n",
    "fig1.show()\n",
    "fig2.show()\n",
    "fig3.show()\n",
    "fig4.show()\n",
    "fig5.show()"
   ]
  },
  {
   "cell_type": "code",
   "execution_count": 10,
   "metadata": {},
   "outputs": [],
   "source": [
    "fig6 = px.scatter(df, x=\"DAY_OF_MONTH\", y=\"ARR_DELAY\", color=\"DEP_DELAY\", marginal_y=\"violin\",\n",
    "           marginal_x=\"box\", trendline=\"ols\", template=\"simple_white\")\n",
    "fig6.show() #It needs a longer time because of the big data"
   ]
  },
  {
   "cell_type": "code",
   "execution_count": 13,
   "metadata": {},
   "outputs": [],
   "source": [
    "fig7 = px.scatter(df, x=\"DAY_OF_MONTH\", y=\"DEP_DELAY\", color=\"ARR_DELAY\", marginal_y=\"violin\",\n",
    "           marginal_x=\"box\", trendline=\"ols\", template=\"simple_white\")\n",
    "fig7.show() #It needs a longer time because of the big data"
   ]
  },
  {
   "cell_type": "code",
   "execution_count": null,
   "metadata": {},
   "outputs": [],
   "source": []
  }
 ],
 "metadata": {
  "kernelspec": {
   "display_name": "Python 3",
   "language": "python",
   "name": "python3"
  },
  "language_info": {
   "codemirror_mode": {
    "name": "ipython",
    "version": 3
   },
   "file_extension": ".py",
   "mimetype": "text/x-python",
   "name": "python",
   "nbconvert_exporter": "python",
   "pygments_lexer": "ipython3",
   "version": "3.8.3"
  }
 },
 "nbformat": 4,
 "nbformat_minor": 4
}
